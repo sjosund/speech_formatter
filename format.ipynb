{
 "cells": [
  {
   "cell_type": "code",
   "execution_count": 10,
   "metadata": {},
   "outputs": [],
   "source": [
    "import re\n",
    "import string\n",
    "\n",
    "import pandas as pd"
   ]
  },
  {
   "cell_type": "code",
   "execution_count": 11,
   "metadata": {},
   "outputs": [],
   "source": [
    "name = 'Book1.xlsx - Raw Text.csv'\n",
    "df = pd.read_csv('docs/{}'.format(name), header=None)"
   ]
  },
  {
   "cell_type": "code",
   "execution_count": 12,
   "metadata": {},
   "outputs": [
    {
     "name": "stdout",
     "output_type": "stream",
     "text": [
      "!\"#$%&'()*+,-./:;<=>?@[\\]^_`{|}~\n"
     ]
    }
   ],
   "source": [
    "print(string.punctuation)"
   ]
  },
  {
   "cell_type": "code",
   "execution_count": 13,
   "metadata": {},
   "outputs": [],
   "source": [
    "# Use nice Pandas functionality to create a new column, without spaces\n",
    "def remove_punctuation(text):\n",
    "    for punctuation in string.punctuation:\n",
    "        text = text.replace(punctuation, '')\n",
    "    return text\n",
    "\n",
    "def replace_punctuation_and_spaces(text):\n",
    "    text = remove_punctuation(text)\n",
    "    # Space not a part of string.punctuation, so we do it manually.\n",
    "    text = text.replace(' ', '')\n",
    "    return text\n",
    "\n",
    "# Count words and characters\n",
    "def count_words(text):\n",
    "    text = remove_punctuation(text)\n",
    "    text = remove_numbers(text)\n",
    "    # Split on whitespace.\n",
    "    split_text = text.split()\n",
    "    return len(split_text)\n",
    "\n",
    "def remove_numbers(text):\n",
    "    for number in '1234567890':\n",
    "        text = text.replace(number, '')\n",
    "    return text\n",
    "\n",
    "def format_speech(spreadsheet_row):\n",
    "    text = spreadsheet_row.iloc[0]\n",
    "    index = spreadsheet_row['index']\n",
    "    # \\n is the newline sign, split the text on that.\n",
    "    splitted_text = text.split('\\n')\n",
    "    \n",
    "    # Remove empty lines\n",
    "    no_empty_lines = [t for t in splitted_text if t.strip() != '']\n",
    "\n",
    "    # Remove whitespace in the beginning of a line\n",
    "    no_initial_whitespace = [t.lstrip() for t in no_empty_lines]\n",
    "    \n",
    "    # Put into a Pandas dataframe\n",
    "    df = pd.DataFrame({'text': no_initial_whitespace})\n",
    "\n",
    "    # Add empty columns\n",
    "    df['empty_1'] = ''\n",
    "    df['empty_2'] = ''\n",
    "    df['empty_3'] = ''\n",
    "\n",
    "    \n",
    "    df['no_formatting'] = df.apply(lambda row: replace_punctuation_and_spaces(row['text']), axis=1)\n",
    "    # count words\n",
    "    df['word_count'] = df.apply(lambda row: count_words(row['text']), axis=1)    \n",
    "    \n",
    "    # Count characters\n",
    "    df['char_count'] = df.apply(lambda row: len(remove_numbers(row['no_formatting'])), axis=1)\n",
    "    \n",
    "    df.to_csv('formatted/formatted_speech_{}.csv'.format(index))"
   ]
  },
  {
   "cell_type": "code",
   "execution_count": 14,
   "metadata": {},
   "outputs": [],
   "source": [
    "# Does \"format_speech\" once for every row.\n",
    "df['index'] = df.index\n",
    "df.apply(format_speech, axis=1);"
   ]
  },
  {
   "cell_type": "code",
   "execution_count": 16,
   "metadata": {},
   "outputs": [],
   "source": [
    "# Sanity check\n",
    "# pd.read_csv('formatted/formatted_speech_0.csv')"
   ]
  },
  {
   "cell_type": "code",
   "execution_count": null,
   "metadata": {},
   "outputs": [],
   "source": []
  }
 ],
 "metadata": {
  "kernelspec": {
   "display_name": "Python 3",
   "language": "python",
   "name": "python3"
  },
  "language_info": {
   "codemirror_mode": {
    "name": "ipython",
    "version": 3
   },
   "file_extension": ".py",
   "mimetype": "text/x-python",
   "name": "python",
   "nbconvert_exporter": "python",
   "pygments_lexer": "ipython3",
   "version": "3.6.4"
  }
 },
 "nbformat": 4,
 "nbformat_minor": 2
}
